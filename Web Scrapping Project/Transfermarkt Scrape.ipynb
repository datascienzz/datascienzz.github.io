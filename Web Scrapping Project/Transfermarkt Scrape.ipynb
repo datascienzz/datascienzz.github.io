{
 "cells": [
  {
   "cell_type": "code",
   "execution_count": 53,
   "metadata": {},
   "outputs": [],
   "source": [
    "import requests\n",
    "from bs4 import BeautifulSoup\n",
    "from urllib.parse import urljoin\n",
    "import pandas as pd\n",
    "import re"
   ]
  },
  {
   "cell_type": "markdown",
   "metadata": {},
   "source": [
    "### Gathering league links for each of Europe's top 5 leagues (19/20 season)"
   ]
  },
  {
   "cell_type": "code",
   "execution_count": 377,
   "metadata": {},
   "outputs": [],
   "source": [
    "url = \"https://www.transfermarkt.com/wettbewerbe/europa\"\n",
    "headers = {'User-Agent':'Mozilla/5.0 (X11; Linux x86_64) AppleWebKit/537.36 (KHTML, like Gecko) Chrome/47.0.2526.106 Safari/537.36'}\n",
    "tree = requests.get(url, headers = headers)\n",
    "soup = BeautifulSoup(tree.content, \"lxml\")\n",
    "\n",
    "league_names = [\"Premier League\", \"LaLiga\", \"Serie A\", \"Bundesliga\", \"Ligue 1\"]\n",
    "season = \"/plus/?saison_id=2019\"\n",
    "http = \"https://www.transfermarkt.com\"\n",
    "league_links = []\n",
    "for league in league_names:\n",
    "    link = soup.find(\"a\", title=league).get(\"href\")\n",
    "    league_links.append(http+link+season)\n",
    "\n"
   ]
  },
  {
   "cell_type": "code",
   "execution_count": 378,
   "metadata": {},
   "outputs": [
    {
     "data": {
      "text/plain": [
       "['https://www.transfermarkt.com/premier-league/startseite/wettbewerb/GB1/plus/?saison_id=2019',\n",
       " 'https://www.transfermarkt.com/laliga/startseite/wettbewerb/ES1/plus/?saison_id=2019',\n",
       " 'https://www.transfermarkt.com/serie-a/startseite/wettbewerb/IT1/plus/?saison_id=2019',\n",
       " 'https://www.transfermarkt.com/bundesliga/startseite/wettbewerb/L1/plus/?saison_id=2019',\n",
       " 'https://www.transfermarkt.com/ligue-1/startseite/wettbewerb/FR1/plus/?saison_id=2019']"
      ]
     },
     "execution_count": 378,
     "metadata": {},
     "output_type": "execute_result"
    }
   ],
   "source": [
    "league_links"
   ]
  },
  {
   "cell_type": "markdown",
   "metadata": {},
   "source": [
    "### Gathering respective team links"
   ]
  },
  {
   "cell_type": "code",
   "execution_count": 379,
   "metadata": {},
   "outputs": [],
   "source": [
    "team_links = []\n",
    "\n",
    "for page in league_links:\n",
    "    tree = requests.get(page, headers = headers)\n",
    "    soup = BeautifulSoup(tree.content, \"lxml\")\n",
    "    \n",
    "    for element in soup.select(\"td.hide-for-pad > a.vereinprofil_tooltip\"):\n",
    "        link = element.get(\"href\")\n",
    "        team_links.append(http+link)"
   ]
  },
  {
   "cell_type": "code",
   "execution_count": 395,
   "metadata": {},
   "outputs": [
    {
     "name": "stdout",
     "output_type": "stream",
     "text": [
      "98\n"
     ]
    }
   ],
   "source": [
    "print(len(team_links)) # number of teams should be 98\n",
    "     "
   ]
  },
  {
   "cell_type": "markdown",
   "metadata": {},
   "source": [
    "### Gathering player links  \n",
    "we need to additonally enter into each players homepage because often their full name is listed in their homepage but not in the team page. We want their full name as this might make the merge to the fbref data go smoother. However the rest of the data will be taken from the team homepage as the player homepage contains age, value, etc all from 2020/2021 which is not the season we are analysing "
   ]
  },
  {
   "cell_type": "code",
   "execution_count": 383,
   "metadata": {},
   "outputs": [],
   "source": [
    "player_links = []\n",
    "for page in team_links:\n",
    "    tree = requests.get(page, headers=headers)\n",
    "    soup = BeautifulSoup(tree.content, 'lxml')\n",
    "    \n",
    "    for element in soup.select(\"span.hide-for-small > a.spielprofil_tooltip\"):\n",
    "        link = element.get(\"href\")\n",
    "        player_links.append(http+link)\n",
    "    "
   ]
  },
  {
   "cell_type": "code",
   "execution_count": 384,
   "metadata": {},
   "outputs": [
    {
     "name": "stdout",
     "output_type": "stream",
     "text": [
      "3557\n"
     ]
    },
    {
     "data": {
      "text/plain": [
       "['https://www.transfermarkt.com/ederson/profil/spieler/238223',\n",
       " 'https://www.transfermarkt.com/arijanet-muric/profil/spieler/371021',\n",
       " 'https://www.transfermarkt.com/claudio-bravo/profil/spieler/40423',\n",
       " 'https://www.transfermarkt.com/scott-carson/profil/spieler/14555',\n",
       " 'https://www.transfermarkt.com/aymeric-laporte/profil/spieler/176553']"
      ]
     },
     "execution_count": 384,
     "metadata": {},
     "output_type": "execute_result"
    }
   ],
   "source": [
    "print(len(player_links))\n",
    "player_links[:5]"
   ]
  },
  {
   "cell_type": "markdown",
   "metadata": {},
   "source": [
    "### Extracting age, club and value from the team page"
   ]
  },
  {
   "cell_type": "code",
   "execution_count": 390,
   "metadata": {},
   "outputs": [],
   "source": [
    "ages = []\n",
    "clubs = []\n",
    "values = []\n",
    "\n",
    "for page in team_links:\n",
    "    tree = requests.get(page, headers=headers)\n",
    "    soup = BeautifulSoup(tree.content, 'lxml')\n",
    "    \n",
    "    #scraping ages\n",
    "    for element in soup.find_all(\"td\", class_=\"zentriert\", string=re.compile('\\(')):\n",
    "        birthdate = element.get_text()\n",
    "        ages.append(birthdate.split('(')[1][:2])\n",
    "    \n",
    "    #scraping clubs         \n",
    "    for element in soup.select(\"div#yw1 a.vereinprofil_tooltip img, div#yw1 a[title^=Without] img\"):\n",
    "        club = element.get(\"alt\")\n",
    "        clubs.append(club)\n",
    "\n",
    "\n",
    "    #scraping values   \n",
    "    for element in soup.select(\"div#yw1 td.rechts.hauptlink\"):\n",
    "        value = element.get_text()\n",
    "        values.append(value)\n",
    "    \n",
    "                      "
   ]
  },
  {
   "cell_type": "code",
   "execution_count": 391,
   "metadata": {},
   "outputs": [
    {
     "name": "stdout",
     "output_type": "stream",
     "text": [
      "3557\n",
      "3524\n",
      "3557\n"
     ]
    }
   ],
   "source": [
    "print(len(ages))\n",
    "print(len(clubs))\n",
    "print(len(values))"
   ]
  },
  {
   "cell_type": "markdown",
   "metadata": {},
   "source": [
    "### Extracting full name from player page if available, if not take incomplete version\n"
   ]
  },
  {
   "cell_type": "code",
   "execution_count": 340,
   "metadata": {},
   "outputs": [],
   "source": [
    "names = []\n",
    "for page in player_links:\n",
    "        tree = requests.get(page, headers=headers)\n",
    "        soup = BeautifulSoup(tree.content, 'lxml')   \n",
    "        element = soup.select_one(\"div.spielerdaten table.auflistung td \")\n",
    "        if element is None:\n",
    "            names.append(element)\n",
    "        elif bool(re.search(r'\\d', element.get_text())):\n",
    "            element = soup.find(\"h1\", itemprop=\"name\").get_text()\n",
    "            names.append(element)\n",
    "        else:\n",
    "            names.append(element.get_text())\n",
    "      "
   ]
  },
  {
   "cell_type": "code",
   "execution_count": 341,
   "metadata": {},
   "outputs": [
    {
     "data": {
      "text/plain": [
       "3557"
      ]
     },
     "execution_count": 341,
     "metadata": {},
     "output_type": "execute_result"
    }
   ],
   "source": [
    "len(names)\n"
   ]
  },
  {
   "cell_type": "markdown",
   "metadata": {},
   "source": [
    "### Merging lists into 1 table via:  Lists > Dictionary > Dataframe > Saved CSV file\n"
   ]
  },
  {
   "cell_type": "code",
   "execution_count": 392,
   "metadata": {},
   "outputs": [],
   "source": [
    "dic = {\"Name\":names, \"Club\":clubs, \"Age\":ages ,\"Values\":values}\n",
    "\n",
    "#follwing two lines is to create a df eventhough club_list has a different lenght\n",
    "df_market_val = pd.DataFrame.from_dict(dic, orient = 'index')\n",
    "df_market_val=df_market_val.transpose()\n",
    "\n",
    "df_market_val.to_csv(r'player_values_Euro_top5.csv', index=False)"
   ]
  },
  {
   "cell_type": "code",
   "execution_count": 398,
   "metadata": {},
   "outputs": [
    {
     "data": {
      "text/html": [
       "<div>\n",
       "<style scoped>\n",
       "    .dataframe tbody tr th:only-of-type {\n",
       "        vertical-align: middle;\n",
       "    }\n",
       "\n",
       "    .dataframe tbody tr th {\n",
       "        vertical-align: top;\n",
       "    }\n",
       "\n",
       "    .dataframe thead th {\n",
       "        text-align: right;\n",
       "    }\n",
       "</style>\n",
       "<table border=\"1\" class=\"dataframe\">\n",
       "  <thead>\n",
       "    <tr style=\"text-align: right;\">\n",
       "      <th></th>\n",
       "      <th>Name</th>\n",
       "      <th>Club</th>\n",
       "      <th>Age</th>\n",
       "      <th>Values</th>\n",
       "    </tr>\n",
       "  </thead>\n",
       "  <tbody>\n",
       "    <tr>\n",
       "      <td>0</td>\n",
       "      <td>Ederson Santana de Moraes</td>\n",
       "      <td>Manchester City</td>\n",
       "      <td>25</td>\n",
       "      <td>€56.00m</td>\n",
       "    </tr>\n",
       "    <tr>\n",
       "      <td>1</td>\n",
       "      <td>Arijanet Anan Muriqi</td>\n",
       "      <td>Girona FC</td>\n",
       "      <td>20</td>\n",
       "      <td>€1.80m</td>\n",
       "    </tr>\n",
       "    <tr>\n",
       "      <td>2</td>\n",
       "      <td>Claudio Andrés Bravo Muñoz</td>\n",
       "      <td>Real Betis Balompié</td>\n",
       "      <td>36</td>\n",
       "      <td>€1.20m</td>\n",
       "    </tr>\n",
       "    <tr>\n",
       "      <td>3</td>\n",
       "      <td>Scott Paul Carson</td>\n",
       "      <td>Manchester City</td>\n",
       "      <td>33</td>\n",
       "      <td>€800Th.</td>\n",
       "    </tr>\n",
       "    <tr>\n",
       "      <td>4</td>\n",
       "      <td>Aymeric Jean Louis Gerard Alphonse Laporte</td>\n",
       "      <td>Manchester City</td>\n",
       "      <td>25</td>\n",
       "      <td>€60.00m</td>\n",
       "    </tr>\n",
       "    <tr>\n",
       "      <td>...</td>\n",
       "      <td>...</td>\n",
       "      <td>...</td>\n",
       "      <td>...</td>\n",
       "      <td>...</td>\n",
       "    </tr>\n",
       "    <tr>\n",
       "      <td>3552</td>\n",
       "      <td>Irvin Cardona</td>\n",
       "      <td>None</td>\n",
       "      <td>21</td>\n",
       "      <td>€4.80m</td>\n",
       "    </tr>\n",
       "    <tr>\n",
       "      <td>3553</td>\n",
       "      <td>GaÃ«tan Charbonnier</td>\n",
       "      <td>None</td>\n",
       "      <td>30</td>\n",
       "      <td>€2.00m</td>\n",
       "    </tr>\n",
       "    <tr>\n",
       "      <td>3554</td>\n",
       "      <td>Alexandre Mendy</td>\n",
       "      <td>None</td>\n",
       "      <td>25</td>\n",
       "      <td>€1.80m</td>\n",
       "    </tr>\n",
       "    <tr>\n",
       "      <td>3555</td>\n",
       "      <td>Ulrich Kévin Selom Mayi</td>\n",
       "      <td>None</td>\n",
       "      <td>26</td>\n",
       "      <td>€550Th.</td>\n",
       "    </tr>\n",
       "    <tr>\n",
       "      <td>3556</td>\n",
       "      <td>Derick Osei Yaw</td>\n",
       "      <td>None</td>\n",
       "      <td>20</td>\n",
       "      <td>€250Th.</td>\n",
       "    </tr>\n",
       "  </tbody>\n",
       "</table>\n",
       "<p>3557 rows × 4 columns</p>\n",
       "</div>"
      ],
      "text/plain": [
       "                                            Name                 Club Age  \\\n",
       "0                      Ederson Santana de Moraes      Manchester City  25   \n",
       "1                           Arijanet Anan Muriqi            Girona FC  20   \n",
       "2                     Claudio Andrés Bravo Muñoz  Real Betis Balompié  36   \n",
       "3                              Scott Paul Carson      Manchester City  33   \n",
       "4     Aymeric Jean Louis Gerard Alphonse Laporte      Manchester City  25   \n",
       "...                                          ...                  ...  ..   \n",
       "3552                               Irvin Cardona                 None  21   \n",
       "3553                         GaÃ«tan Charbonnier                 None  30   \n",
       "3554                             Alexandre Mendy                 None  25   \n",
       "3555                     Ulrich Kévin Selom Mayi                 None  26   \n",
       "3556                             Derick Osei Yaw                 None  20   \n",
       "\n",
       "         Values  \n",
       "0     €56.00m    \n",
       "1      €1.80m    \n",
       "2      €1.20m    \n",
       "3     €800Th.    \n",
       "4     €60.00m    \n",
       "...         ...  \n",
       "3552   €4.80m    \n",
       "3553   €2.00m    \n",
       "3554   €1.80m    \n",
       "3555  €550Th.    \n",
       "3556  €250Th.    \n",
       "\n",
       "[3557 rows x 4 columns]"
      ]
     },
     "execution_count": 398,
     "metadata": {},
     "output_type": "execute_result"
    }
   ],
   "source": [
    "df_market_val = pd.DataFrame.from_dict(dic, orient = 'index')\n",
    "df_market_val.transpose()"
   ]
  }
 ],
 "metadata": {
  "kernelspec": {
   "display_name": "Python 3",
   "language": "python",
   "name": "python3"
  },
  "language_info": {
   "codemirror_mode": {
    "name": "ipython",
    "version": 3
   },
   "file_extension": ".py",
   "mimetype": "text/x-python",
   "name": "python",
   "nbconvert_exporter": "python",
   "pygments_lexer": "ipython3",
   "version": "3.7.4"
  }
 },
 "nbformat": 4,
 "nbformat_minor": 2
}
