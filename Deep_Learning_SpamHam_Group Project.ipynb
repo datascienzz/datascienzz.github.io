{
 "cells": [
  {
   "cell_type": "code",
   "execution_count": 1,
   "id": "julian-forum",
   "metadata": {},
   "outputs": [
    {
     "name": "stderr",
     "output_type": "stream",
     "text": [
      "Using TensorFlow backend.\n"
     ]
    }
   ],
   "source": [
    "from keras import models\n",
    "from keras import layers\n",
    "from keras import metrics\n",
    "import pandas as pd\n",
    "import tensorflow as tf\n",
    "import seaborn as sns\n",
    "import matplotlib.pyplot as plt"
   ]
  },
  {
   "cell_type": "markdown",
   "id": "senior-colors",
   "metadata": {},
   "source": [
    "## Data Loading and Inspection"
   ]
  },
  {
   "cell_type": "code",
   "execution_count": 2,
   "id": "moved-tamil",
   "metadata": {},
   "outputs": [],
   "source": [
    "df = pd.read_csv(\"SPAM text message 20170820 - Data.csv\")"
   ]
  },
  {
   "cell_type": "code",
   "execution_count": 3,
   "id": "fifteen-document",
   "metadata": {},
   "outputs": [
    {
     "data": {
      "text/html": [
       "<div>\n",
       "<style scoped>\n",
       "    .dataframe tbody tr th:only-of-type {\n",
       "        vertical-align: middle;\n",
       "    }\n",
       "\n",
       "    .dataframe tbody tr th {\n",
       "        vertical-align: top;\n",
       "    }\n",
       "\n",
       "    .dataframe thead th {\n",
       "        text-align: right;\n",
       "    }\n",
       "</style>\n",
       "<table border=\"1\" class=\"dataframe\">\n",
       "  <thead>\n",
       "    <tr style=\"text-align: right;\">\n",
       "      <th></th>\n",
       "      <th>Category</th>\n",
       "      <th>Message</th>\n",
       "    </tr>\n",
       "  </thead>\n",
       "  <tbody>\n",
       "    <tr>\n",
       "      <th>0</th>\n",
       "      <td>ham</td>\n",
       "      <td>Go until jurong point, crazy.. Available only ...</td>\n",
       "    </tr>\n",
       "    <tr>\n",
       "      <th>1</th>\n",
       "      <td>ham</td>\n",
       "      <td>Ok lar... Joking wif u oni...</td>\n",
       "    </tr>\n",
       "    <tr>\n",
       "      <th>2</th>\n",
       "      <td>spam</td>\n",
       "      <td>Free entry in 2 a wkly comp to win FA Cup fina...</td>\n",
       "    </tr>\n",
       "    <tr>\n",
       "      <th>3</th>\n",
       "      <td>ham</td>\n",
       "      <td>U dun say so early hor... U c already then say...</td>\n",
       "    </tr>\n",
       "    <tr>\n",
       "      <th>4</th>\n",
       "      <td>ham</td>\n",
       "      <td>Nah I don't think he goes to usf, he lives aro...</td>\n",
       "    </tr>\n",
       "  </tbody>\n",
       "</table>\n",
       "</div>"
      ],
      "text/plain": [
       "  Category                                            Message\n",
       "0      ham  Go until jurong point, crazy.. Available only ...\n",
       "1      ham                      Ok lar... Joking wif u oni...\n",
       "2     spam  Free entry in 2 a wkly comp to win FA Cup fina...\n",
       "3      ham  U dun say so early hor... U c already then say...\n",
       "4      ham  Nah I don't think he goes to usf, he lives aro..."
      ]
     },
     "execution_count": 3,
     "metadata": {},
     "output_type": "execute_result"
    }
   ],
   "source": [
    "df.head()"
   ]
  },
  {
   "cell_type": "code",
   "execution_count": 4,
   "id": "clinical-malpractice",
   "metadata": {},
   "outputs": [
    {
     "name": "stdout",
     "output_type": "stream",
     "text": [
      "<class 'pandas.core.frame.DataFrame'>\n",
      "RangeIndex: 5572 entries, 0 to 5571\n",
      "Data columns (total 2 columns):\n",
      " #   Column  Non-Null Count  Dtype \n",
      "---  ------  --------------  ----- \n",
      " 0   labels  5572 non-null   object\n",
      " 1   text    5572 non-null   object\n",
      "dtypes: object(2)\n",
      "memory usage: 87.2+ KB\n"
     ]
    }
   ],
   "source": [
    "df.columns = ['labels', 'text']\n",
    "df.info()"
   ]
  },
  {
   "cell_type": "code",
   "execution_count": 5,
   "id": "posted-skill",
   "metadata": {},
   "outputs": [
    {
     "name": "stdout",
     "output_type": "stream",
     "text": [
      "ham     0.865937\n",
      "spam    0.134063\n",
      "Name: labels, dtype: float64\n"
     ]
    },
    {
     "name": "stderr",
     "output_type": "stream",
     "text": [
      "C:\\Users\\gokce\\.conda\\envs\\tensorflow\\lib\\site-packages\\seaborn\\_decorators.py:43: FutureWarning: Pass the following variable as a keyword arg: x. From version 0.12, the only valid positional argument will be `data`, and passing other arguments without an explicit keyword will result in an error or misinterpretation.\n",
      "  FutureWarning\n"
     ]
    },
    {
     "data": {
      "image/png": "[encoded data removed]",
      "text/plain": [
       "<Figure size 432x288 with 1 Axes>"
      ]
     },
     "metadata": {
      "needs_background": "light"
     },
     "output_type": "display_data"
    }
   ],
   "source": [
    "sns.countplot(df.labels)\n",
    "plt.title('Frequency of Both labels ')\n",
    "print(df.labels.value_counts(normalize = True))"
   ]
  },
  {
   "cell_type": "markdown",
   "id": "corrected-ability",
   "metadata": {},
   "source": [
    "  ## Universal Sentence Encoder Approach"
   ]
  },
  {
   "cell_type": "code",
   "execution_count": 6,
   "id": "sharing-situation",
   "metadata": {},
   "outputs": [],
   "source": [
    "#train/test split\n",
    "from sklearn.model_selection import train_test_split\n",
    "\n",
    "x_train, x_test, y_train, y_test = train_test_split(df['text'], df['labels'],\n",
    "                                                   stratify=df['labels'], random_state=42)"
   ]
  },
  {
   "cell_type": "code",
   "execution_count": 7,
   "id": "preliminary-approval",
   "metadata": {},
   "outputs": [],
   "source": [
    "#turn y into numerical dummy to make sure the module.fit method works\n",
    "y_train.replace({\"spam\": 1, \"ham\":0}, inplace = True)\n",
    "y_test.replace({\"spam\": 1, \"ham\":0}, inplace = True)\n",
    "\n",
    "\n",
    "# %pip install tensorflow-hub"
   ]
  },
  {
   "cell_type": "code",
   "execution_count": 8,
   "id": "forward-applicant",
   "metadata": {},
   "outputs": [
    {
     "data": {
      "text/plain": [
       "<tf.Tensor: shape=(1, 512), dtype=float32, numpy=\n",
       "array([[-2.60742623e-02, -8.46000165e-02, -2.67866198e-02,\n",
       "         5.67842238e-02,  6.19704723e-02,  3.82260159e-02,\n",
       "         2.01149322e-02,  2.74087600e-02,  8.69831964e-02,\n",
       "         3.07917856e-02,  4.10411730e-02,  2.55183410e-02,\n",
       "         9.65186686e-04,  5.89279681e-02,  4.00954075e-02,\n",
       "         4.67089340e-02, -3.31279561e-02,  4.07041609e-02,\n",
       "        -1.19929696e-02, -4.76170518e-02, -8.29668250e-03,\n",
       "         7.05467463e-02,  4.84353630e-03,  8.09824765e-02,\n",
       "        -5.70177250e-02, -6.43551499e-02,  6.97147325e-02,\n",
       "        -6.98838457e-02,  2.64606159e-02, -2.35220511e-02,\n",
       "         5.52375205e-02,  4.91363928e-02,  5.69897182e-02,\n",
       "        -6.10719360e-02,  3.60850990e-02,  2.32446156e-02,\n",
       "         5.60175218e-02, -1.09551996e-02,  4.21308316e-02,\n",
       "        -1.76953934e-02,  7.12434622e-03,  2.04703063e-02,\n",
       "        -7.10126385e-02, -8.45577493e-02,  4.36058566e-02,\n",
       "         4.79397699e-02, -9.01802033e-02, -6.87343776e-02,\n",
       "         1.27959624e-02,  1.62498504e-02, -4.83130813e-02,\n",
       "         3.08831800e-02,  7.43837142e-03,  3.39155644e-02,\n",
       "         3.32343951e-02,  4.33182456e-02,  6.36333525e-02,\n",
       "         4.92026769e-02, -2.83108298e-02,  8.13511480e-03,\n",
       "         6.13531247e-02, -4.55091558e-02,  7.29005486e-02,\n",
       "         2.35105380e-02,  3.83348241e-02,  5.08494377e-02,\n",
       "         8.06406420e-03,  8.62897746e-03,  6.40241951e-02,\n",
       "        -6.05040528e-02, -7.36794919e-02,  2.69570481e-02,\n",
       "        -5.77676147e-02,  1.25013692e-02, -4.08308133e-02,\n",
       "         3.32859643e-02, -3.23612429e-02, -1.61092784e-02,\n",
       "        -2.48677079e-02, -5.35661802e-02, -3.74627970e-02,\n",
       "         6.29036129e-02, -4.98672090e-02, -2.28666253e-02,\n",
       "         4.40827236e-02,  3.75327319e-02, -6.20824434e-02,\n",
       "         4.28381450e-02, -3.76116298e-02,  2.65849978e-02,\n",
       "        -5.32958917e-02,  8.69165640e-03, -4.62800264e-02,\n",
       "         6.37023523e-02, -3.66369798e-03,  3.64336260e-02,\n",
       "         1.21065825e-02,  2.30124742e-02, -1.27871670e-02,\n",
       "        -8.17938074e-02,  4.63207364e-02, -5.16177230e-02,\n",
       "        -1.15763815e-02, -4.45202254e-02,  3.64443846e-02,\n",
       "        -6.70074020e-03, -4.42535728e-02,  4.88680191e-02,\n",
       "        -7.05861254e-03, -5.31740002e-02, -5.03168702e-02,\n",
       "         5.56184649e-02, -5.25438786e-02,  1.96676087e-02,\n",
       "         5.11138663e-02,  4.78590392e-02, -4.44897152e-02,\n",
       "         7.92778679e-04,  2.36185621e-02,  6.46662265e-02,\n",
       "        -6.73268596e-03, -2.22911164e-02, -4.31940258e-02,\n",
       "         4.22831699e-02, -3.80826220e-02,  1.30239059e-03,\n",
       "         7.33893588e-02,  9.22414660e-03,  5.11264838e-02,\n",
       "         5.28766662e-02,  1.59419735e-03,  6.54447377e-02,\n",
       "         6.89913779e-02, -9.69000161e-03, -5.38369780e-03,\n",
       "        -8.52041766e-02, -2.13744100e-02, -6.66424483e-02,\n",
       "        -1.95668750e-02, -3.74438916e-03, -1.78493578e-02,\n",
       "        -1.98682249e-02,  3.18536647e-02,  4.51908335e-02,\n",
       "         2.49815872e-03, -9.52923596e-02,  1.09558355e-03,\n",
       "         3.67592461e-02, -2.77979882e-03,  5.85166912e-04,\n",
       "         5.27816676e-02, -1.95374358e-02, -5.73618598e-02,\n",
       "         3.48535106e-02, -7.62958974e-02,  1.13363727e-03,\n",
       "         4.93205246e-03, -6.26855493e-02, -3.72669548e-02,\n",
       "        -2.89978981e-02,  1.54424598e-02, -1.10955480e-02,\n",
       "        -3.56346071e-02,  9.36219562e-03,  5.60582243e-02,\n",
       "         2.33557411e-02,  3.69892432e-03, -8.49869698e-02,\n",
       "         4.20443639e-02, -6.58991933e-02,  7.92493392e-03,\n",
       "         2.03064159e-02, -1.13739017e-02, -4.80086217e-03,\n",
       "        -6.58503845e-02, -3.13581340e-02, -1.76833402e-02,\n",
       "        -3.11461631e-02,  2.57765874e-02, -6.42409176e-02,\n",
       "         5.48409000e-02, -3.31307054e-02, -2.06242409e-02,\n",
       "        -2.63731480e-02, -2.03021485e-02,  2.06493754e-02,\n",
       "         2.81628221e-02, -5.83699830e-02,  5.95918968e-02,\n",
       "        -9.14687756e-03,  2.95741763e-03,  2.21164408e-03,\n",
       "         9.03765336e-02,  2.45938953e-02,  3.32328901e-02,\n",
       "        -6.09733909e-02,  4.33602296e-02,  9.32767838e-02,\n",
       "        -5.41661382e-02, -1.43824089e-02, -6.39714971e-02,\n",
       "        -2.69169267e-02,  5.96261695e-02,  4.66896370e-02,\n",
       "        -2.70995591e-02,  4.30359282e-02,  3.93449999e-02,\n",
       "         6.83098733e-02, -6.43664226e-02,  4.37395871e-02,\n",
       "         7.17306137e-02, -1.63310654e-02,  1.59165375e-02,\n",
       "         4.96943183e-02, -2.06299536e-02,  5.14802933e-02,\n",
       "        -2.51142550e-02, -4.53334190e-02,  1.49425268e-02,\n",
       "         3.53006832e-02, -2.16533560e-02,  5.52629679e-02,\n",
       "         5.08353822e-02, -4.09516990e-02, -3.83847095e-02,\n",
       "        -1.17984675e-02, -3.60060558e-02,  2.16764342e-02,\n",
       "         3.75643633e-02,  1.69528613e-03, -9.02763475e-03,\n",
       "        -2.26709321e-02,  2.74833497e-02,  9.64818969e-02,\n",
       "        -2.78988644e-03, -1.64378174e-02,  5.64871430e-02,\n",
       "        -6.02529608e-02, -2.23186240e-02,  8.58926121e-03,\n",
       "        -9.62130912e-03,  1.41767114e-02,  5.79660013e-02,\n",
       "        -5.63242286e-02,  1.70243960e-02,  4.20254134e-02,\n",
       "        -7.59566110e-03, -3.66607085e-02,  3.43124717e-02,\n",
       "         6.90165982e-02, -7.24128485e-02,  2.07565222e-02,\n",
       "        -3.28472746e-03,  1.13611119e-02,  8.79604742e-02,\n",
       "        -7.99725354e-02, -2.96540814e-03, -1.92952044e-02,\n",
       "        -1.03387982e-02, -4.69879285e-02,  3.84079777e-02,\n",
       "         2.39849705e-02,  2.08902061e-02, -3.82688381e-02,\n",
       "        -5.75624183e-02,  1.72497146e-02,  4.09739912e-02,\n",
       "         5.98669460e-04,  1.68123767e-02,  6.32370114e-02,\n",
       "        -4.27634269e-02,  8.11341405e-02,  4.58501838e-02,\n",
       "         8.91674124e-03,  3.27869989e-02,  3.61760110e-02,\n",
       "         3.10240919e-03,  6.55346587e-02,  7.67164379e-02,\n",
       "         9.13366005e-02,  2.06146967e-02,  1.06216557e-02,\n",
       "         3.59857827e-02,  4.54193614e-02, -3.46752480e-02,\n",
       "        -1.67106781e-02,  2.14491561e-02,  9.38798394e-03,\n",
       "        -6.24129474e-02, -1.85835939e-02,  3.70531604e-02,\n",
       "        -3.88284139e-02, -2.59618666e-02,  2.92380545e-02,\n",
       "        -1.44912871e-02, -3.74627695e-03,  3.02939769e-02,\n",
       "         5.40679395e-02,  4.77524251e-02,  5.29317223e-02,\n",
       "        -4.39474992e-02, -1.28631247e-02, -6.77327951e-03,\n",
       "        -4.93905209e-02, -7.27062002e-02,  1.61287542e-02,\n",
       "         5.46294376e-02,  2.68698148e-02,  2.99146473e-02,\n",
       "         1.55110785e-03,  2.75359582e-02, -4.64262329e-02,\n",
       "         3.22091691e-02,  2.66057835e-03,  1.19944187e-02,\n",
       "         4.31575850e-02,  4.66606505e-02,  5.22513390e-02,\n",
       "        -1.93222482e-02, -1.66278761e-02, -2.71114381e-03,\n",
       "         1.54879290e-05, -8.14614818e-03,  2.14950908e-02,\n",
       "        -1.18326815e-03,  3.73656154e-02, -2.56142765e-02,\n",
       "         7.61129186e-02,  2.44104024e-02,  3.92367505e-02,\n",
       "         7.12004751e-02, -5.25086280e-03,  5.43619245e-02,\n",
       "        -6.22927248e-02, -2.94231959e-02, -3.29863057e-02,\n",
       "         6.56582937e-02,  7.21714944e-02,  2.68781465e-02,\n",
       "        -2.93161273e-02, -3.32962945e-02, -8.44248757e-02,\n",
       "        -3.16015482e-02,  2.79867724e-02, -8.23744982e-02,\n",
       "         3.64788733e-02,  4.88252342e-02, -6.83783591e-02,\n",
       "         3.18668820e-02,  1.66107826e-02,  2.29781847e-02,\n",
       "        -6.12197593e-02, -1.93398483e-02,  5.13782911e-02,\n",
       "         4.07583937e-02, -3.33075263e-02, -8.87005851e-02,\n",
       "         5.66096604e-03, -6.40923157e-02, -1.86007135e-02,\n",
       "         6.25708252e-02, -9.90173500e-03,  6.61970302e-02,\n",
       "         3.38725783e-02, -7.80233508e-03,  3.48912291e-02,\n",
       "        -3.66670266e-02,  7.21683204e-02, -3.65501433e-03,\n",
       "         2.45536305e-02,  9.41812620e-03, -6.41648471e-02,\n",
       "         6.45556524e-02,  5.33294491e-02, -7.75077417e-02,\n",
       "         8.18707868e-02,  7.88642168e-02, -5.49658425e-02,\n",
       "         2.22725291e-02, -8.89201239e-02, -2.62606274e-02,\n",
       "         1.73204504e-02,  3.16566937e-02,  1.87992565e-02,\n",
       "         8.76914486e-02,  5.27185053e-02, -8.66078734e-02,\n",
       "        -2.06336807e-02,  1.02113048e-02,  7.17167631e-02,\n",
       "         3.00142951e-02, -1.02895265e-02,  4.14275518e-03,\n",
       "        -8.37661978e-03, -4.63809073e-02,  1.67407971e-02,\n",
       "        -4.28260937e-02, -2.61010253e-03,  6.40727654e-02,\n",
       "         6.88173398e-02,  1.03705833e-02,  5.19992486e-02,\n",
       "        -5.15560806e-03, -2.70999968e-03,  1.48353772e-03,\n",
       "        -4.15059812e-02,  6.25545066e-03, -4.25068848e-02,\n",
       "         3.58885154e-02, -2.73590628e-02, -5.72058037e-02,\n",
       "        -1.34983519e-02, -1.11882919e-02,  2.88900901e-02,\n",
       "        -6.43886551e-02,  3.81065756e-02,  1.59307253e-02,\n",
       "         8.23506266e-02, -5.06881773e-02,  5.58760203e-02,\n",
       "        -2.79319845e-02,  4.98601943e-02, -7.18506277e-02,\n",
       "        -4.42550890e-03,  6.04672767e-02,  8.46776366e-02,\n",
       "        -3.83321419e-02,  5.73305376e-02, -3.55883949e-02,\n",
       "         5.09444885e-02,  1.30833732e-02, -6.83168843e-02,\n",
       "        -5.64304739e-02,  3.75824124e-02, -1.13892984e-02,\n",
       "        -1.50790969e-02, -3.15334871e-02,  1.66470837e-02,\n",
       "         5.05045466e-02, -7.16641173e-02,  5.06207868e-02,\n",
       "         8.92126188e-03, -3.95122543e-02,  3.03691868e-02,\n",
       "        -3.07687502e-02,  6.91800611e-03,  2.46045496e-02,\n",
       "        -4.05793414e-02, -6.49312586e-02, -4.28357273e-02,\n",
       "        -4.39038314e-02,  1.80412978e-02,  8.50102678e-02,\n",
       "        -7.99795706e-03, -3.54884602e-02, -3.85430567e-02,\n",
       "        -1.43462606e-02, -3.44554894e-02,  8.24159607e-02,\n",
       "        -2.23659538e-02, -1.47825535e-02, -3.74615565e-02,\n",
       "        -4.38764431e-02, -6.95463941e-02, -2.52644196e-02,\n",
       "        -3.44677977e-02, -5.96644636e-03, -1.84871368e-02,\n",
       "        -2.47849412e-02,  7.08741024e-02,  1.64441969e-02,\n",
       "         4.18216623e-02,  7.81708285e-02,  6.50737509e-02,\n",
       "        -4.84120250e-02, -5.01155071e-02, -5.78681715e-02,\n",
       "        -3.48139890e-02,  9.95446369e-03,  4.20346074e-02,\n",
       "        -5.46989031e-02,  1.52088320e-02,  7.73330852e-02,\n",
       "        -1.08553125e-02, -1.29467845e-02,  6.48382977e-02,\n",
       "        -2.48345248e-02, -2.82439590e-02,  1.74645297e-02,\n",
       "        -1.51769677e-02, -4.95821349e-02, -8.01008195e-02,\n",
       "        -1.37344282e-02,  3.17384079e-02,  5.67260459e-02,\n",
       "         3.72413769e-02, -2.03021709e-02,  7.13638263e-03,\n",
       "         8.14114287e-02, -3.46040875e-02,  2.47511081e-03,\n",
       "        -2.48615202e-02, -6.22476004e-02, -7.91509524e-02,\n",
       "        -3.39030139e-02,  7.03757703e-02, -1.09078446e-02,\n",
       "        -2.60082521e-02, -4.36639041e-02, -2.17357092e-02,\n",
       "         1.26251690e-02, -6.14742711e-02]], dtype=float32)>"
      ]
     },
     "execution_count": 8,
     "metadata": {},
     "output_type": "execute_result"
    }
   ],
   "source": [
    "# To use text data as features for models, we need to convert it into a numeric form. Tensorflow Hub provides various modules for\n",
    "# converting the sentences into embeddings. Universal Sentence Encoder is one of the popular modules for generating sentence \n",
    "# embeddings. It gives back a 512 fixed-size vector for each word. Below we download this embedding module and provide and try \n",
    "# it out on one word.\n",
    "\n",
    "# The Universal Sentence Encoder encodes text into high-dimensional vectors that can be used for text classification, \n",
    "# semantic similarity, clustering and other natural language tasks.The model is trained and optimized for greater-than-word \n",
    "# length text, such as sentences, phrases or short paragraphs. It is trained on a variety of data sources and a variety of tasks \n",
    "# with the aim of dynamically accommodating a wide variety of natural language understanding tasks. The input is variable length\n",
    "# English text and the output is a 512 dimensional vector. We apply this model to the STS benchmark for semantic similarity, and \n",
    "# the results can be seen in the example notebook made available. The universal-sentence-encoder model is trained with a deep \n",
    "# averaging network (DAN) encoder.\n",
    "\n",
    "import tensorflow_hub as hub\n",
    "\n",
    "encoder = hub.load('https://tfhub.dev/google/universal-sentence-encoder/4')\n",
    "encoder(['Hello World'])\n"
   ]
  },
  {
   "cell_type": "code",
   "execution_count": 12,
   "id": "worthy-kitchen",
   "metadata": {},
   "outputs": [],
   "source": [
    "#create sequential model\n",
    "model_1 = tf.keras.models.Sequential()"
   ]
  },
  {
   "cell_type": "code",
   "execution_count": 13,
   "id": "designing-credit",
   "metadata": {},
   "outputs": [],
   "source": [
    "#add the layer with the universal sentence encoder\n",
    "model_1.add(hub.KerasLayer(encoder, \n",
    "                        input_shape=[], \n",
    "                        dtype=tf.string, \n",
    "                        trainable=True))"
   ]
  },
  {
   "cell_type": "code",
   "execution_count": 14,
   "id": "satisfied-charity",
   "metadata": {},
   "outputs": [],
   "source": [
    "# add the output layer, with only 1 neuron as our classification task is binary (spam or ham) and activation function sigmoid \n",
    "# as we want a probabilistic output \n",
    "model_1.add(tf.keras.layers.Dense(32, activation='relu', kernel_regularizer = 'l2'))\n",
    "model_1.add(tf.keras.layers.Dropout(0.2))\n",
    "model_1.add(tf.keras.layers.Dense(1, activation=\"sigmoid\"))"
   ]
  },
  {
   "cell_type": "code",
   "execution_count": 15,
   "id": "advisory-caribbean",
   "metadata": {},
   "outputs": [
    {
     "name": "stdout",
     "output_type": "stream",
     "text": [
      "Model: \"sequential_1\"\n",
      "_________________________________________________________________\n",
      "Layer (type)                 Output Shape              Param #   \n",
      "=================================================================\n",
      "keras_layer_1 (KerasLayer)   (None, 512)               256797824 \n",
      "_________________________________________________________________\n",
      "dense (Dense)                (None, 32)                16416     \n",
      "_________________________________________________________________\n",
      "dropout (Dropout)            (None, 32)                0         \n",
      "_________________________________________________________________\n",
      "dense_1 (Dense)              (None, 1)                 33        \n",
      "=================================================================\n",
      "Total params: 256,814,273\n",
      "Trainable params: 256,814,273\n",
      "Non-trainable params: 0\n",
      "_________________________________________________________________\n"
     ]
    }
   ],
   "source": [
    "model_1.summary()"
   ]
  },
  {
   "cell_type": "code",
   "execution_count": 16,
   "id": "ruled-manhattan",
   "metadata": {},
   "outputs": [],
   "source": [
    "#set some hyperparameters and select metrics of interest\n",
    "model_1.compile(optimizer='adam',\n",
    "                  loss='binary_crossentropy',\n",
    "                  metrics=['binary_accuracy', tf.keras.metrics.Precision(),tf.keras.metrics.Recall()])"
   ]
  },
  {
   "cell_type": "code",
   "execution_count": 17,
   "id": "rapid-minority",
   "metadata": {},
   "outputs": [
    {
     "name": "stdout",
     "output_type": "stream",
     "text": [
      "Train on 4179 samples, validate on 1393 samples\n",
      "Epoch 1/8\n",
      "4179/4179 [==============================] - 277s 66ms/sample - loss: 0.4333 - binary_accuracy: 0.9430 - precision: 0.8797 - recall: 0.6661 - val_loss: 0.1851 - val_binary_accuracy: 0.9777 - val_precision: 0.9756 - val_recall: 0.8556\n",
      "Epoch 2/8\n",
      "4179/4179 [==============================] - 289s 69ms/sample - loss: 0.1283 - binary_accuracy: 0.9933 - precision: 0.9890 - recall: 0.9607 - val_loss: 0.1211 - val_binary_accuracy: 0.9864 - val_precision: 0.9884 - val_recall: 0.9091\n",
      "Epoch 3/8\n",
      "4179/4179 [==============================] - 265s 63ms/sample - loss: 0.0768 - binary_accuracy: 0.9978 - precision: 0.9982 - recall: 0.9857 - val_loss: 0.1014 - val_binary_accuracy: 0.9821 - val_precision: 0.9175 - val_recall: 0.9519\n",
      "Epoch 4/8\n",
      "4179/4179 [==============================] - 269s 64ms/sample - loss: 0.0508 - binary_accuracy: 0.9990 - precision: 1.0000 - recall: 0.9929 - val_loss: 0.0809 - val_binary_accuracy: 0.9885 - val_precision: 0.9672 - val_recall: 0.9465\n",
      "Epoch 5/8\n",
      "4179/4179 [==============================] - 253s 61ms/sample - loss: 0.0351 - binary_accuracy: 1.0000 - precision: 1.0000 - recall: 1.0000 - val_loss: 0.0742 - val_binary_accuracy: 0.9878 - val_precision: 0.9722 - val_recall: 0.9358\n",
      "Epoch 6/8\n",
      "4179/4179 [==============================] - 278s 66ms/sample - loss: 0.0295 - binary_accuracy: 1.0000 - precision: 1.0000 - recall: 1.0000 - val_loss: 0.0730 - val_binary_accuracy: 0.9878 - val_precision: 0.9722 - val_recall: 0.9358\n",
      "Epoch 7/8\n",
      "4179/4179 [==============================] - 269s 64ms/sample - loss: 0.0264 - binary_accuracy: 1.0000 - precision: 1.0000 - recall: 1.0000 - val_loss: 0.0717 - val_binary_accuracy: 0.9878 - val_precision: 0.9722 - val_recall: 0.9358\n",
      "Epoch 8/8\n",
      "4179/4179 [==============================] - 240s 57ms/sample - loss: 0.0245 - binary_accuracy: 1.0000 - precision: 1.0000 - recall: 1.0000 - val_loss: 0.0723 - val_binary_accuracy: 0.9878 - val_precision: 0.9722 - val_recall: 0.9358\n"
     ]
    }
   ],
   "source": [
    "#train the model and record the training history.\n",
    "history_1 = model_1.fit(x_train,\n",
    "          y_train,\n",
    "          epochs=8,\n",
    "         validation_data=(x_test, y_test))"
   ]
  },
  {
   "cell_type": "code",
   "execution_count": 18,
   "id": "accredited-relief",
   "metadata": {},
   "outputs": [
    {
     "name": "stdout",
     "output_type": "stream",
     "text": [
      "WARNING:tensorflow:From C:\\Users\\gokce\\.conda\\envs\\tensorflow\\lib\\site-packages\\tensorflow_core\\python\\ops\\resource_variable_ops.py:1786: calling BaseResourceVariable.__init__ (from tensorflow.python.ops.resource_variable_ops) with constraint is deprecated and will be removed in a future version.\n",
      "Instructions for updating:\n",
      "If using Keras pass *_constraint arguments to layers.\n"
     ]
    },
    {
     "name": "stderr",
     "output_type": "stream",
     "text": [
      "WARNING:tensorflow:From C:\\Users\\gokce\\.conda\\envs\\tensorflow\\lib\\site-packages\\tensorflow_core\\python\\ops\\resource_variable_ops.py:1786: calling BaseResourceVariable.__init__ (from tensorflow.python.ops.resource_variable_ops) with constraint is deprecated and will be removed in a future version.\n",
      "Instructions for updating:\n",
      "If using Keras pass *_constraint arguments to layers.\n"
     ]
    },
    {
     "name": "stdout",
     "output_type": "stream",
     "text": [
      "INFO:tensorflow:Assets written to: Universal_Sentence_Encoder_Model\\assets\n"
     ]
    },
    {
     "name": "stderr",
     "output_type": "stream",
     "text": [
      "INFO:tensorflow:Assets written to: Universal_Sentence_Encoder_Model\\assets\n"
     ]
    }
   ],
   "source": [
    "from keras.models import load_model\n",
    "model_1.save(\"Universal_Sentence_Encoder_Model\")"
   ]
  },
  {
   "cell_type": "code",
   "execution_count": null,
   "id": "stretch-queensland",
   "metadata": {},
   "outputs": [],
   "source": [
    "#model_1 = load_model(\"Universal_Sentence_Encoder_Model.h5\", custom_objects={'Precision': metrics.Precision(), 'Recall': metrics.Recall()})"
   ]
  },
  {
   "cell_type": "code",
   "execution_count": 19,
   "id": "breeding-cabinet",
   "metadata": {},
   "outputs": [
    {
     "name": "stdout",
     "output_type": "stream",
     "text": [
      "1393/1393 [==============================] - 0s 212us/sample - loss: 0.0723 - binary_accuracy: 0.9878 - precision: 0.9722 - recall: 0.9358\n",
      "\n",
      "ACCURACY: 0.9877961\n",
      "LOSS: 0.07232769189318221\n"
     ]
    }
   ],
   "source": [
    "score_1 = model_1.evaluate(x_test, y_test, batch_size=32)\n",
    "print()\n",
    "print(\"ACCURACY:\",score_1[1])\n",
    "print(\"LOSS:\",score_1[0])"
   ]
  },
  {
   "cell_type": "markdown",
   "id": "veterinary-learning",
   "metadata": {},
   "source": [
    "#### Evaluation of the Model"
   ]
  },
  {
   "cell_type": "code",
   "execution_count": 24,
   "id": "loved-shelf",
   "metadata": {},
   "outputs": [
    {
     "data": {
      "image/png": "[encoded data removed]",
      "text/plain": [
       "<Figure size 432x288 with 1 Axes>"
      ]
     },
     "metadata": {
      "needs_background": "light"
     },
     "output_type": "display_data"
    },
    {
     "data": {
      "image/png": "[encoded data removed]",
      "text/plain": [
       "<Figure size 432x288 with 1 Axes>"
      ]
     },
     "metadata": {
      "needs_background": "light"
     },
     "output_type": "display_data"
    }
   ],
   "source": [
    "acc = history_1.history['binary_accuracy']\n",
    "val_acc = history_1.history['val_binary_accuracy']\n",
    "loss = history_1.history['loss']\n",
    "val_loss = history_1.history['val_loss']\n",
    " \n",
    "epochs = range(len(acc))\n",
    " \n",
    "plt.plot(epochs, acc, 'b', label='Training acc')\n",
    "plt.plot(epochs, val_acc, 'r', label='Validation acc')\n",
    "plt.title('Training and validation accuracy')\n",
    "plt.legend()\n",
    " \n",
    "plt.figure()\n",
    " \n",
    "plt.plot(epochs, loss, 'b', label='Training loss')\n",
    "plt.plot(epochs, val_loss, 'r', label='Validation loss')\n",
    "plt.title('Training and validation loss')\n",
    "plt.legend()\n",
    " \n",
    "plt.show()"
   ]
  },
  {
   "cell_type": "code",
   "execution_count": 25,
   "id": "latter-complement",
   "metadata": {},
   "outputs": [
    {
     "name": "stdout",
     "output_type": "stream",
     "text": [
      "[0, 1, 0, 0, 0, 0, 0, 0, 1, 0]\n"
     ]
    }
   ],
   "source": [
    "# make predictions on test data using the model\n",
    "y_pred_1 = [1 if o>0.5 else 0 for o in model_1.predict(x_test)]\n",
    "print(y_pred_1[:10])"
   ]
  },
  {
   "cell_type": "code",
   "execution_count": 26,
   "id": "amazing-anatomy",
   "metadata": {},
   "outputs": [
    {
     "name": "stdout",
     "output_type": "stream",
     "text": [
      "              precision    recall  f1-score   support\n",
      "\n",
      "           0       0.99      1.00      0.99      1206\n",
      "           1       0.97      0.94      0.95       187\n",
      "\n",
      "    accuracy                           0.99      1393\n",
      "   macro avg       0.98      0.97      0.97      1393\n",
      "weighted avg       0.99      0.99      0.99      1393\n",
      "\n"
     ]
    }
   ],
   "source": [
    "from sklearn.metrics import classification_report\n",
    "print(classification_report(y_test, y_pred_1))"
   ]
  },
  {
   "cell_type": "code",
   "execution_count": 23,
   "id": "innocent-recycling",
   "metadata": {},
   "outputs": [
    {
     "data": {
      "image/png": "[encoded data removed]",
      "text/plain": [
       "<Figure size 432x288 with 2 Axes>"
      ]
     },
     "metadata": {
      "needs_background": "light"
     },
     "output_type": "display_data"
    }
   ],
   "source": [
    "# create Confusion matrix\n",
    "from sklearn.metrics import confusion_matrix,f1_score, precision_score,recall_score\n",
    "import matplotlib.pyplot as plt\n",
    "cf_matrix =confusion_matrix(y_test,y_pred_1)\n",
    "ax= plt.subplot()\n",
    "#annot=True to annotate cells\n",
    "sns.heatmap(cf_matrix, annot=True, ax = ax,cmap='Blues',fmt='');\n",
    "# labels, title and ticks\n",
    "ax.set_xlabel('Predicted labels');\n",
    "ax.set_ylabel('True labels');\n",
    "ax.set_title('Confusion Matrix');\n",
    "ax.xaxis.set_ticklabels(['Not Spam', 'Spam']); ax.yaxis.set_ticklabels(['Not Spam', 'Spam']);"
   ]
  },
  {
   "cell_type": "markdown",
   "id": "statewide-curve",
   "metadata": {},
   "source": [
    "## WORD2VEC APPROACH with LSTM"
   ]
  },
  {
   "cell_type": "code",
   "execution_count": null,
   "id": "expanded-canon",
   "metadata": {},
   "outputs": [],
   "source": [
    "#df[df['labels']=='ham'].value_counts()\n",
    "#df[df['labels']=='spam'].value_counts()"
   ]
  },
  {
   "cell_type": "code",
   "execution_count": 67,
   "id": "equivalent-capacity",
   "metadata": {},
   "outputs": [],
   "source": [
    "X = df['text']\n",
    "Y = df.labels"
   ]
  },
  {
   "cell_type": "code",
   "execution_count": 68,
   "id": "graduate-board",
   "metadata": {},
   "outputs": [
    {
     "data": {
      "text/plain": [
       "array([0, 0, 1, ..., 0, 0, 0])"
      ]
     },
     "execution_count": 68,
     "metadata": {},
     "output_type": "execute_result"
    }
   ],
   "source": [
    "#encode labels\n",
    "\n",
    "from sklearn.preprocessing import LabelEncoder\n",
    "le=LabelEncoder()\n",
    "Y = le.fit_transform(Y)\n",
    "Y"
   ]
  },
  {
   "cell_type": "code",
   "execution_count": 69,
   "id": "living-charity",
   "metadata": {},
   "outputs": [
    {
     "data": {
      "text/plain": [
       "array([[0],\n",
       "       [0],\n",
       "       [1],\n",
       "       ...,\n",
       "       [0],\n",
       "       [0],\n",
       "       [0]])"
      ]
     },
     "execution_count": 69,
     "metadata": {},
     "output_type": "execute_result"
    }
   ],
   "source": [
    "Y = Y.reshape(-1,1)\n",
    "Y"
   ]
  },
  {
   "cell_type": "code",
   "execution_count": 70,
   "id": "photographic-purchase",
   "metadata": {},
   "outputs": [],
   "source": [
    "import nltk\n",
    "from nltk.corpus import stopwords   #remove stopwords\n",
    "from nltk.stem.porter import PorterStemmer   #stemming\n",
    "import re\n",
    "#Different models for converting text to vector\n",
    "from sklearn.feature_extraction.text import CountVectorizer #BOW\n",
    "from sklearn.feature_extraction.text import TfidfVectorizer    # Tf-idf\n",
    "from gensim.models import Word2Vec   # word2vec method"
   ]
  },
  {
   "cell_type": "code",
   "execution_count": 71,
   "id": "outstanding-walker",
   "metadata": {},
   "outputs": [
    {
     "name": "stderr",
     "output_type": "stream",
     "text": [
      "[nltk_data] Downloading package stopwords to\n",
      "[nltk_data]     C:\\Users\\gokce\\AppData\\Roaming\\nltk_data...\n",
      "[nltk_data]   Package stopwords is already up-to-date!\n"
     ]
    },
    {
     "data": {
      "text/plain": [
       "True"
      ]
     },
     "execution_count": 71,
     "metadata": {},
     "output_type": "execute_result"
    }
   ],
   "source": [
    "nltk.download('stopwords')"
   ]
  },
  {
   "cell_type": "code",
   "execution_count": 72,
   "id": "distant-spoke",
   "metadata": {},
   "outputs": [],
   "source": [
    "port_stem=PorterStemmer()\n",
    "corpus=[]\n",
    "for i in range(len(df['text'])):\n",
    "    text_1=re.sub('[^a-zA-Z]',\" \",df['text'][i])\n",
    "    text_1=text_1.lower()\n",
    "    text_1=text_1.split()\n",
    "    text_1=[port_stem.stem(word) for word in text_1 if word not in stopwords.words('english')]\n",
    "    text_1=' '.join(text_1)\n",
    "    corpus.append(text_1)"
   ]
  },
  {
   "cell_type": "code",
   "execution_count": 73,
   "id": "gothic-denver",
   "metadata": {},
   "outputs": [
    {
     "data": {
      "text/plain": [
       "(5572, 5572)"
      ]
     },
     "execution_count": 73,
     "metadata": {},
     "output_type": "execute_result"
    }
   ],
   "source": [
    "len(corpus), len(Y)"
   ]
  },
  {
   "cell_type": "code",
   "execution_count": 74,
   "id": "exposed-compilation",
   "metadata": {},
   "outputs": [],
   "source": [
    "from sklearn.model_selection import train_test_split\n",
    "xtrain,xval,ytrain,yval=train_test_split(corpus,Y,stratify=Y,random_state=42)"
   ]
  },
  {
   "cell_type": "code",
   "execution_count": 75,
   "id": "foster-surge",
   "metadata": {},
   "outputs": [
    {
     "data": {
      "text/plain": [
       "(4179, 4179, 1393, 1393)"
      ]
     },
     "execution_count": 75,
     "metadata": {},
     "output_type": "execute_result"
    }
   ],
   "source": [
    "len(xtrain),len(ytrain),len(xval),len(yval)"
   ]
  },
  {
   "cell_type": "code",
   "execution_count": 76,
   "id": "demanding-mapping",
   "metadata": {},
   "outputs": [
    {
     "name": "stdout",
     "output_type": "stream",
     "text": [
      "Wall time: 4 ms\n"
     ]
    }
   ],
   "source": [
    "%%time\n",
    "documents=[text.split() for text in xtrain]"
   ]
  },
  {
   "cell_type": "code",
   "execution_count": 77,
   "id": "established-firewall",
   "metadata": {},
   "outputs": [
    {
     "data": {
      "text/plain": [
       "4179"
      ]
     },
     "execution_count": 77,
     "metadata": {},
     "output_type": "execute_result"
    }
   ],
   "source": [
    "len(documents)"
   ]
  },
  {
   "cell_type": "code",
   "execution_count": 78,
   "id": "trying-mistress",
   "metadata": {},
   "outputs": [],
   "source": [
    "import gensim\n",
    "w2v_model = gensim.models.Word2Vec(vector_size=300, \n",
    "                                            window=3, \n",
    "                                            min_count=5, \n",
    "                                            workers=4)\n",
    "# min_count (int, optional) – Ignores all words with total frequency lower than this.\n",
    "# workers (int, optional) – Use these many worker threads to train the model (=faster training with multicore machines).\n",
    "# window (int, optional) – Maximum distance between the current and predicted word within a sentence.\n",
    "# vector_size (int, optional) – Dimensionality of the word vectors."
   ]
  },
  {
   "cell_type": "code",
   "execution_count": 79,
   "id": "marine-perth",
   "metadata": {},
   "outputs": [],
   "source": [
    "# Build vocabulary from a dictionary of word frequencies.\n",
    "w2v_model.build_vocab(documents)"
   ]
  },
  {
   "cell_type": "code",
   "execution_count": 80,
   "id": "renewable-milton",
   "metadata": {},
   "outputs": [
    {
     "name": "stdout",
     "output_type": "stream",
     "text": [
      "Vocab size 1295\n"
     ]
    }
   ],
   "source": [
    "words = list(w2v_model.wv.index_to_key)\n",
    "vocab_size = len(words)\n",
    "print(\"Vocab size\", vocab_size)"
   ]
  },
  {
   "cell_type": "code",
   "execution_count": 81,
   "id": "minimal-documentary",
   "metadata": {},
   "outputs": [
    {
     "data": {
      "text/plain": [
       "(869579, 1205728)"
      ]
     },
     "execution_count": 81,
     "metadata": {},
     "output_type": "execute_result"
    }
   ],
   "source": [
    "#train word2vector model\n",
    "w2v_model.train(documents,total_examples=len(documents),epochs=32)"
   ]
  },
  {
   "cell_type": "code",
   "execution_count": 82,
   "id": "ecological-muslim",
   "metadata": {},
   "outputs": [
    {
     "data": {
      "text/plain": [
       "[('question', 0.888487696647644),\n",
       " ('break', 0.8472680449485779),\n",
       " ('person', 0.8312538266181946),\n",
       " ('street', 0.7702011466026306),\n",
       " ('th', 0.7676493525505066),\n",
       " ('mid', 0.7640823721885681),\n",
       " ('share', 0.7612439393997192),\n",
       " ('countri', 0.7610010504722595),\n",
       " ('team', 0.755826473236084),\n",
       " ('peac', 0.7538736462593079)]"
      ]
     },
     "execution_count": 82,
     "metadata": {},
     "output_type": "execute_result"
    }
   ],
   "source": [
    "w2v_model.wv.most_similar(\"answer\")"
   ]
  },
  {
   "cell_type": "code",
   "execution_count": 83,
   "id": "artificial-greene",
   "metadata": {},
   "outputs": [],
   "source": [
    "from keras.preprocessing.text import Tokenizer\n",
    "tokenizer=Tokenizer()"
   ]
  },
  {
   "cell_type": "code",
   "execution_count": 84,
   "id": "cooked-segment",
   "metadata": {},
   "outputs": [
    {
     "name": "stdout",
     "output_type": "stream",
     "text": [
      "Total words 5378\n"
     ]
    }
   ],
   "source": [
    "tokenizer.fit_on_texts(xtrain)\n",
    "vocab_size = len(tokenizer.word_index) + 1\n",
    "print(\"Total words\", vocab_size)"
   ]
  },
  {
   "cell_type": "code",
   "execution_count": 85,
   "id": "broken-lancaster",
   "metadata": {},
   "outputs": [],
   "source": [
    "from keras.preprocessing.sequence import pad_sequences\n",
    "x_train = pad_sequences(tokenizer.texts_to_sequences(xtrain), maxlen=300)\n",
    "x_test = pad_sequences(tokenizer.texts_to_sequences(xval), maxlen=300)"
   ]
  },
  {
   "cell_type": "code",
   "execution_count": 86,
   "id": "delayed-blackjack",
   "metadata": {},
   "outputs": [
    {
     "data": {
      "text/plain": [
       "(4179, 4179, 1393, 1393)"
      ]
     },
     "execution_count": 86,
     "metadata": {},
     "output_type": "execute_result"
    }
   ],
   "source": [
    "len(x_train),len(ytrain),len(x_test),len(yval)"
   ]
  },
  {
   "cell_type": "code",
   "execution_count": 87,
   "id": "occupational-mandate",
   "metadata": {},
   "outputs": [
    {
     "name": "stdout",
     "output_type": "stream",
     "text": [
      "[[0. 0. 0. ... 0. 0. 0.]\n",
      " [0. 0. 0. ... 0. 0. 0.]\n",
      " [0. 0. 0. ... 0. 0. 0.]\n",
      " ...\n",
      " [0. 0. 0. ... 0. 0. 0.]\n",
      " [0. 0. 0. ... 0. 0. 0.]\n",
      " [0. 0. 0. ... 0. 0. 0.]]\n",
      "(5378, 300)\n"
     ]
    }
   ],
   "source": [
    "# Build Embedding Layer\n",
    "import numpy as np\n",
    "embedding_matrix = np.zeros((vocab_size, 300))\n",
    "print(embedding_matrix)\n",
    "for word, i in tokenizer.word_index.items():\n",
    "    if word in w2v_model.wv:\n",
    "        embedding_matrix[i] = w2v_model.wv[word]\n",
    "print(embedding_matrix.shape)"
   ]
  },
  {
   "cell_type": "code",
   "execution_count": 88,
   "id": "split-animation",
   "metadata": {},
   "outputs": [],
   "source": [
    "from keras.layers import Activation, Dense, Dropout, Embedding\n",
    "embedding_layer = Embedding(vocab_size, 300, weights=[embedding_matrix], input_length=300, trainable=False)"
   ]
  },
  {
   "cell_type": "code",
   "execution_count": 89,
   "id": "adequate-portrait",
   "metadata": {},
   "outputs": [
    {
     "name": "stdout",
     "output_type": "stream",
     "text": [
      "Model: \"sequential_1\"\n",
      "_________________________________________________________________\n",
      "Layer (type)                 Output Shape              Param #   \n",
      "=================================================================\n",
      "embedding_1 (Embedding)      (None, 300, 300)          1613400   \n",
      "_________________________________________________________________\n",
      "dropout_1 (Dropout)          (None, 300, 300)          0         \n",
      "_________________________________________________________________\n",
      "lstm_1 (LSTM)                (None, 64)                93440     \n",
      "_________________________________________________________________\n",
      "dense_1 (Dense)              (None, 1)                 65        \n",
      "=================================================================\n",
      "Total params: 1,706,905\n",
      "Trainable params: 93,505\n",
      "Non-trainable params: 1,613,400\n",
      "_________________________________________________________________\n"
     ]
    }
   ],
   "source": [
    "from keras.models import Sequential\n",
    "from keras.layers import Activation, Dense, Dropout, Embedding, Flatten, Conv1D, MaxPooling1D, LSTM\n",
    "# Build The model\n",
    "model_2 = Sequential()\n",
    "model_2.add(embedding_layer)\n",
    "model_2.add(Dropout(0.2))\n",
    "model_2.add(LSTM(64, dropout=0.2, recurrent_dropout=0.2))\n",
    "model_2.add(Dense(1, activation='sigmoid'))\n",
    "\n",
    "model_2.summary()"
   ]
  },
  {
   "cell_type": "code",
   "execution_count": 90,
   "id": "satisfied-animal",
   "metadata": {},
   "outputs": [],
   "source": [
    "model_2.compile(loss='binary_crossentropy',\n",
    "              optimizer=\"adam\",\n",
    "              metrics=['binary_accuracy', tf.keras.metrics.Precision(),tf.keras.metrics.Recall()])"
   ]
  },
  {
   "cell_type": "code",
   "execution_count": 91,
   "id": "offshore-vertical",
   "metadata": {},
   "outputs": [],
   "source": [
    "from keras.callbacks import ReduceLROnPlateau, EarlyStopping\n",
    "callbacks = [ ReduceLROnPlateau(monitor='val_loss', patience=5, cooldown=0),\n",
    "              EarlyStopping(monitor='val_acc', min_delta=1e-4, patience=5)]"
   ]
  },
  {
   "cell_type": "code",
   "execution_count": 92,
   "id": "useful-tribe",
   "metadata": {},
   "outputs": [
    {
     "name": "stdout",
     "output_type": "stream",
     "text": [
      "Train on 3761 samples, validate on 418 samples\n",
      "Epoch 1/8\n",
      "3761/3761 [==============================] - 22s 6ms/step - loss: 0.1065 - binary_accuracy: 0.9750 - precision_1: 0.9390 - recall_1: 0.7604 - val_loss: 0.0419 - val_binary_accuracy: 0.9904 - val_precision_1: 0.9483 - val_recall_1: 0.8653\n",
      "Epoch 2/8\n"
     ]
    },
    {
     "name": "stderr",
     "output_type": "stream",
     "text": [
      "C:\\Users\\gokce\\.conda\\envs\\tensorflow\\lib\\site-packages\\keras\\callbacks\\callbacks.py:846: RuntimeWarning: Early stopping conditioned on metric `val_acc` which is not available. Available metrics are: val_loss,val_binary_accuracy,val_precision_1,val_recall_1,loss,binary_accuracy,precision_1,recall_1,lr\n",
      "  (self.monitor, ','.join(list(logs.keys()))), RuntimeWarning\n"
     ]
    },
    {
     "name": "stdout",
     "output_type": "stream",
     "text": [
      "3761/3761 [==============================] - 22s 6ms/step - loss: 0.0548 - binary_accuracy: 0.9848 - precision_1: 0.9567 - recall_1: 0.8811 - val_loss: 0.0574 - val_binary_accuracy: 0.9856 - val_precision_1: 0.9591 - val_recall_1: 0.8925\n",
      "Epoch 3/8\n",
      "3761/3761 [==============================] - 20s 5ms/step - loss: 0.0555 - binary_accuracy: 0.9835 - precision_1: 0.9580 - recall_1: 0.8984 - val_loss: 0.0295 - val_binary_accuracy: 0.9904 - val_precision_1: 0.9585 - val_recall_1: 0.9022\n",
      "Epoch 4/8\n",
      "3761/3761 [==============================] - 19s 5ms/step - loss: 0.0539 - binary_accuracy: 0.9838 - precision_1: 0.9591 - recall_1: 0.9074 - val_loss: 0.0320 - val_binary_accuracy: 0.9928 - val_precision_1: 0.9572 - val_recall_1: 0.9094\n",
      "Epoch 5/8\n",
      "3761/3761 [==============================] - 20s 5ms/step - loss: 0.0511 - binary_accuracy: 0.9854 - precision_1: 0.9591 - recall_1: 0.9113 - val_loss: 0.0273 - val_binary_accuracy: 0.9928 - val_precision_1: 0.9595 - val_recall_1: 0.9127\n",
      "Epoch 6/8\n",
      "3761/3761 [==============================] - 19s 5ms/step - loss: 0.0484 - binary_accuracy: 0.9872 - precision_1: 0.9613 - recall_1: 0.9152 - val_loss: 0.0255 - val_binary_accuracy: 0.9952 - val_precision_1: 0.9616 - val_recall_1: 0.9168\n",
      "Epoch 7/8\n",
      "3761/3761 [==============================] - 19s 5ms/step - loss: 0.0465 - binary_accuracy: 0.9859 - precision_1: 0.9616 - recall_1: 0.9182 - val_loss: 0.0263 - val_binary_accuracy: 0.9952 - val_precision_1: 0.9621 - val_recall_1: 0.9195\n",
      "Epoch 8/8\n",
      "3761/3761 [==============================] - 18s 5ms/step - loss: 0.0433 - binary_accuracy: 0.9888 - precision_1: 0.9634 - recall_1: 0.9212 - val_loss: 0.0250 - val_binary_accuracy: 0.9928 - val_precision_1: 0.9643 - val_recall_1: 0.9221\n"
     ]
    }
   ],
   "source": [
    "history_2 = model_2.fit(x_train, ytrain,\n",
    "                    batch_size=32,\n",
    "                    epochs=8,\n",
    "                    validation_split=0.1,\n",
    "                    verbose=1,\n",
    "                    callbacks=callbacks)"
   ]
  },
  {
   "cell_type": "code",
   "execution_count": 95,
   "id": "cooked-course",
   "metadata": {},
   "outputs": [
    {
     "name": "stdout",
     "output_type": "stream",
     "text": [
      "1393/1393 [==============================] - 3s 2ms/step\n",
      "\n",
      "ACCURACY: 0.9827709794044495\n",
      "LOSS: 0.07298089117039067\n"
     ]
    }
   ],
   "source": [
    "score_2 = model_2.evaluate(x_test, yval, batch_size=32)\n",
    "print()\n",
    "print(\"ACCURACY:\",score_2[1])\n",
    "print(\"LOSS:\",score_2[0])"
   ]
  },
  {
   "cell_type": "code",
   "execution_count": 96,
   "id": "express-carnival",
   "metadata": {},
   "outputs": [
    {
     "data": {
      "text/plain": [
       "dict_keys(['val_loss', 'val_binary_accuracy', 'val_precision_1', 'val_recall_1', 'loss', 'binary_accuracy', 'precision_1', 'recall_1', 'lr'])"
      ]
     },
     "execution_count": 96,
     "metadata": {},
     "output_type": "execute_result"
    }
   ],
   "source": [
    "# see the keys of history\n",
    "history_2.history.keys()"
   ]
  },
  {
   "cell_type": "code",
   "execution_count": 97,
   "id": "russian-sunglasses",
   "metadata": {},
   "outputs": [
    {
     "data": {
      "image/png": "[encoded data removed]",
      "text/plain": [
       "<Figure size 432x288 with 1 Axes>"
      ]
     },
     "metadata": {
      "needs_background": "light"
     },
     "output_type": "display_data"
    },
    {
     "data": {
      "image/png": "[encoded data removed]",
      "text/plain": [
       "<Figure size 432x288 with 1 Axes>"
      ]
     },
     "metadata": {
      "needs_background": "light"
     },
     "output_type": "display_data"
    }
   ],
   "source": [
    "acc = history_2.history['binary_accuracy']\n",
    "val_acc = history_2.history['val_binary_accuracy']\n",
    "loss = history_2.history['loss']\n",
    "val_loss = history_2.history['val_loss']\n",
    " \n",
    "epochs = range(len(acc))\n",
    " \n",
    "plt.plot(epochs, acc, 'b', label='Training acc')\n",
    "plt.plot(epochs, val_acc, 'r', label='Validation acc')\n",
    "plt.title('Training and validation accuracy')\n",
    "plt.legend()\n",
    " \n",
    "plt.figure()\n",
    " \n",
    "plt.plot(epochs, loss, 'b', label='Training loss')\n",
    "plt.plot(epochs, val_loss, 'r', label='Validation loss')\n",
    "plt.title('Training and validation loss')\n",
    "plt.legend()\n",
    " \n",
    "plt.show()"
   ]
  },
  {
   "cell_type": "code",
   "execution_count": 98,
   "id": "permanent-finder",
   "metadata": {},
   "outputs": [],
   "source": [
    "from keras.models import load_model\n",
    "model_2.save(\"word2vec_LSTM_Model\")"
   ]
  },
  {
   "cell_type": "code",
   "execution_count": 99,
   "id": "brown-addiction",
   "metadata": {},
   "outputs": [
    {
     "name": "stdout",
     "output_type": "stream",
     "text": [
      "[0, 1, 0, 0, 0, 0, 0, 0, 1, 0]\n"
     ]
    }
   ],
   "source": [
    "# make predictions on test data using the model\n",
    "y_pred_2 = [1 if o>0.5 else 0 for o in model_2.predict(x_test)]\n",
    "print(y_pred_2[:10])"
   ]
  },
  {
   "cell_type": "code",
   "execution_count": 100,
   "id": "obvious-laundry",
   "metadata": {},
   "outputs": [
    {
     "name": "stdout",
     "output_type": "stream",
     "text": [
      "              precision    recall  f1-score   support\n",
      "\n",
      "           0       0.98      1.00      0.99      1206\n",
      "           1       0.97      0.90      0.93       187\n",
      "\n",
      "    accuracy                           0.98      1393\n",
      "   macro avg       0.98      0.95      0.96      1393\n",
      "weighted avg       0.98      0.98      0.98      1393\n",
      "\n"
     ]
    }
   ],
   "source": [
    "from sklearn.metrics import classification_report\n",
    "print(classification_report(yval, y_pred_2))"
   ]
  },
  {
   "cell_type": "code",
   "execution_count": 101,
   "id": "norman-comfort",
   "metadata": {},
   "outputs": [
    {
     "data": {
      "image/png": "[encoded data removed]",
      "text/plain": [
       "<Figure size 432x288 with 2 Axes>"
      ]
     },
     "metadata": {
      "needs_background": "light"
     },
     "output_type": "display_data"
    }
   ],
   "source": [
    "# create Confusion matrix\n",
    "from sklearn.metrics import confusion_matrix,f1_score, precision_score,recall_score\n",
    "import matplotlib.pyplot as plt\n",
    "cf_matrix_2 =confusion_matrix(yval, y_pred_2)\n",
    "ax= plt.subplot()\n",
    "#annot=True to annotate cells\n",
    "sns.heatmap(cf_matrix_2, annot=True, ax = ax,cmap='Blues',fmt='');\n",
    "# labels, title and ticks\n",
    "ax.set_xlabel('Predicted labels');\n",
    "ax.set_ylabel('True labels');\n",
    "ax.set_title('Confusion Matrix');\n",
    "ax.xaxis.set_ticklabels(['Not Spam', 'Spam']); ax.yaxis.set_ticklabels(['Not Spam', 'Spam']);"
   ]
  }
 ],
 "metadata": {
  "kernelspec": {
   "display_name": "Python 3",
   "language": "python",
   "name": "python3"
  },
  "language_info": {
   "codemirror_mode": {
    "name": "ipython",
    "version": 3
   },
   "file_extension": ".py",
   "mimetype": "text/x-python",
   "name": "python",
   "nbconvert_exporter": "python",
   "pygments_lexer": "ipython3",
   "version": "3.7.9"
  }
 },
 "nbformat": 4,
 "nbformat_minor": 5
}
